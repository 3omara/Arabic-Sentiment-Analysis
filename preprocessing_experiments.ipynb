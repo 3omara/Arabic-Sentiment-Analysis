{
 "cells": [
  {
   "cell_type": "markdown",
   "metadata": {},
   "source": [
    "# Text Preprocessing Experimentations"
   ]
  },
  {
   "cell_type": "markdown",
   "metadata": {},
   "source": [
    "## Importing Libraries and Loading Data"
   ]
  },
  {
   "cell_type": "code",
   "execution_count": 1,
   "metadata": {},
   "outputs": [],
   "source": [
    "import sys\n",
    "sys.path.append('../')\n",
    "sys.path.append('../Files')\n",
    "sys.path.append('../Datasets')"
   ]
  },
  {
   "cell_type": "code",
   "execution_count": 2,
   "metadata": {},
   "outputs": [
    {
     "name": "stderr",
     "output_type": "stream",
     "text": [
      "[nltk_data] Downloading package punkt to\n",
      "[nltk_data]     C:\\Users\\youss\\AppData\\Roaming\\nltk_data...\n",
      "[nltk_data]   Package punkt is already up-to-date!\n"
     ]
    }
   ],
   "source": [
    "import pandas as pd\n",
    "import numpy as np\n",
    "from dataCleaner import clean_arabic_text, farasa_stemmer, replace_punctuation, \\\n",
    "                        qalsadi_lemmatizer, remove_diacritics, remove_links, \\\n",
    "                        remove_longation, remove_tag_persons, replace_emojies, \\\n",
    "                        snow_ball_stemmer, stem_docs, remove_stop_words\n",
    "import nltk\n",
    "from lexicon import replace_lexicon"
   ]
  },
  {
   "cell_type": "code",
   "execution_count": 3,
   "metadata": {},
   "outputs": [],
   "source": [
    "df_train = pd.read_csv('./Datasets/Emotional-Tone-Dataset.csv')\n",
    "df_train.drop(columns=\"ID\", inplace=True)\n",
    "df_train = df_train.rename(columns={df_train.columns[0]:\"tweet\", df_train.columns[1]:\"label\"})"
   ]
  },
  {
   "cell_type": "code",
   "execution_count": 4,
   "metadata": {},
   "outputs": [
    {
     "data": {
      "text/html": [
       "<div>\n",
       "<style scoped>\n",
       "    .dataframe tbody tr th:only-of-type {\n",
       "        vertical-align: middle;\n",
       "    }\n",
       "\n",
       "    .dataframe tbody tr th {\n",
       "        vertical-align: top;\n",
       "    }\n",
       "\n",
       "    .dataframe thead th {\n",
       "        text-align: right;\n",
       "    }\n",
       "</style>\n",
       "<table border=\"1\" class=\"dataframe\">\n",
       "  <thead>\n",
       "    <tr style=\"text-align: right;\">\n",
       "      <th></th>\n",
       "      <th>tweet</th>\n",
       "      <th>label</th>\n",
       "    </tr>\n",
       "  </thead>\n",
       "  <tbody>\n",
       "    <tr>\n",
       "      <th>0</th>\n",
       "      <td>الاوليمبياد الجايه هكون لسه ف الكليه ..</td>\n",
       "      <td>none</td>\n",
       "    </tr>\n",
       "    <tr>\n",
       "      <th>1</th>\n",
       "      <td>عجز الموازنه وصل ل93.7 % من الناتج المحلي يعني...</td>\n",
       "      <td>anger</td>\n",
       "    </tr>\n",
       "    <tr>\n",
       "      <th>2</th>\n",
       "      <td>كتنا نيله ف حظنا الهباب xD</td>\n",
       "      <td>sadness</td>\n",
       "    </tr>\n",
       "    <tr>\n",
       "      <th>3</th>\n",
       "      <td>جميعنا نريد تحقيق اهدافنا لكن تونس تالقت في حر...</td>\n",
       "      <td>joy</td>\n",
       "    </tr>\n",
       "    <tr>\n",
       "      <th>4</th>\n",
       "      <td>الاوليمبياد نظامها مختلف .. ومواعيد المونديال ...</td>\n",
       "      <td>none</td>\n",
       "    </tr>\n",
       "  </tbody>\n",
       "</table>\n",
       "</div>"
      ],
      "text/plain": [
       "                                               tweet    label\n",
       "0            الاوليمبياد الجايه هكون لسه ف الكليه ..     none\n",
       "1  عجز الموازنه وصل ل93.7 % من الناتج المحلي يعني...    anger\n",
       "2                         كتنا نيله ف حظنا الهباب xD  sadness\n",
       "3  جميعنا نريد تحقيق اهدافنا لكن تونس تالقت في حر...      joy\n",
       "4  الاوليمبياد نظامها مختلف .. ومواعيد المونديال ...     none"
      ]
     },
     "execution_count": 4,
     "metadata": {},
     "output_type": "execute_result"
    }
   ],
   "source": [
    "df_train.head()"
   ]
  },
  {
   "cell_type": "markdown",
   "metadata": {},
   "source": [
    "## Experimentations"
   ]
  },
  {
   "cell_type": "markdown",
   "metadata": {},
   "source": [
    "### Experiment 1"
   ]
  },
  {
   "cell_type": "code",
   "execution_count": 8,
   "metadata": {},
   "outputs": [],
   "source": [
    "experiment1 = df_train.copy()\n",
    "experiment1.dropna(inplace=True)"
   ]
  },
  {
   "cell_type": "code",
   "execution_count": 9,
   "metadata": {},
   "outputs": [],
   "source": [
    "experiment1['tweet'] = experiment1.tweet.map(lambda tweet : remove_tag_persons(tweet))\n",
    "experiment1['tweet'] = experiment1.tweet.map(lambda tweet : remove_links(tweet))\n",
    "experiment1['tweet'] = experiment1.tweet.map(lambda tweet : replace_emojies(tweet))\n",
    "experiment1['tweet'] = experiment1.tweet.map(lambda tweet : clean_arabic_text(tweet))\n",
    "experiment1['tweet'] = experiment1.tweet.map(lambda tweet : remove_longation(tweet))\n",
    "experiment1['tweet'] = experiment1.tweet.map(lambda tweet : qalsadi_lemmatizer(tweet))"
   ]
  },
  {
   "cell_type": "code",
   "execution_count": 12,
   "metadata": {},
   "outputs": [],
   "source": [
    "experiment1.to_csv(\"Text Preprocessing Experimentations/exp1_rtp_rl_re_cat_rl_qalsadi.csv\", index=False)"
   ]
  },
  {
   "cell_type": "markdown",
   "metadata": {},
   "source": [
    "### Experiment 2"
   ]
  },
  {
   "cell_type": "code",
   "execution_count": null,
   "metadata": {},
   "outputs": [],
   "source": [
    "experiment2 = df_train.copy()\n",
    "experiment2.dropna(inplace=True)"
   ]
  },
  {
   "cell_type": "code",
   "execution_count": null,
   "metadata": {},
   "outputs": [],
   "source": [
    "experiment2['tweet'] = experiment2.tweet.map(lambda tweet : remove_tag_persons(tweet))\n",
    "experiment2['tweet'] = experiment2.tweet.map(lambda tweet : remove_links(tweet))\n",
    "experiment2['tweet'] = experiment2.tweet.map(lambda tweet : replace_emojies(tweet))\n",
    "experiment2['tweet'] = experiment2.tweet.map(lambda tweet : clean_arabic_text(tweet))\n",
    "experiment2['tweet'] = experiment2.tweet.map(lambda tweet : remove_longation(tweet))\n",
    "experiment2['tweet'] = experiment2.tweet.map(lambda tweet : farasa_stemmer(tweet))"
   ]
  },
  {
   "cell_type": "code",
   "execution_count": null,
   "metadata": {},
   "outputs": [],
   "source": [
    "experiment2.to_csv(\"Text Preprocessing Experimentations/exp2_train_rtp_rl_re_cat_rl_farasa.csv\")"
   ]
  },
  {
   "cell_type": "markdown",
   "metadata": {},
   "source": [
    "### Experiment 3"
   ]
  },
  {
   "cell_type": "code",
   "execution_count": null,
   "metadata": {},
   "outputs": [],
   "source": [
    "experiment3 = df_train.copy()\n",
    "experiment3.dropna(inplace=True)"
   ]
  },
  {
   "cell_type": "code",
   "execution_count": null,
   "metadata": {},
   "outputs": [],
   "source": [
    "experiment3['tweet'] = experiment3.tweet.map(lambda tweet : remove_tag_persons(tweet))\n",
    "experiment3['tweet'] = experiment3.tweet.map(lambda tweet : remove_links(tweet))\n",
    "experiment3['tweet'] = experiment3.tweet.map(lambda tweet : replace_emojies(tweet))\n",
    "experiment3['tweet'] = experiment3.tweet.map(lambda tweet : clean_arabic_text(tweet))\n",
    "experiment3['tweet'] = experiment3.tweet.map(lambda tweet : remove_longation(tweet))\n",
    "experiment3['tweet'] = experiment3.tweet.map(lambda tweet : snow_ball_stemmer(tweet))"
   ]
  },
  {
   "cell_type": "code",
   "execution_count": null,
   "metadata": {},
   "outputs": [],
   "source": [
    "experiment3.to_csv(\"Text Preprocessing Experimentations/exp3_train_rtp_rl_re_cat_rl_snowball.csv\")"
   ]
  },
  {
   "cell_type": "markdown",
   "metadata": {},
   "source": [
    "### Experiment 4"
   ]
  },
  {
   "cell_type": "code",
   "execution_count": 8,
   "metadata": {},
   "outputs": [],
   "source": [
    "experiment4 = df_train.copy()\n",
    "experiment4.dropna(inplace=True)"
   ]
  },
  {
   "cell_type": "code",
   "execution_count": 9,
   "metadata": {},
   "outputs": [],
   "source": [
    "experiment4['tweet'] = experiment4.tweet.map(lambda tweet : remove_tag_persons(tweet))\n",
    "experiment4['tweet'] = experiment4.tweet.map(lambda tweet : remove_links(tweet))\n",
    "experiment4['tweet'] = experiment4.tweet.map(lambda tweet : replace_emojies(tweet))\n",
    "experiment4['tweet'] = experiment4.tweet.map(lambda tweet : clean_arabic_text(tweet))\n",
    "experiment4['tweet'] = experiment4.tweet.map(lambda tweet : remove_longation(tweet))\n",
    "experiment4['tweet'] = experiment4.tweet.map(lambda tweet : stem_docs(tweet))"
   ]
  },
  {
   "cell_type": "code",
   "execution_count": 11,
   "metadata": {},
   "outputs": [
    {
     "ename": "NameError",
     "evalue": "name 'experiment4' is not defined",
     "output_type": "error",
     "traceback": [
      "\u001b[1;31m---------------------------------------------------------------------------\u001b[0m",
      "\u001b[1;31mNameError\u001b[0m                                 Traceback (most recent call last)",
      "\u001b[1;32me:\\Projects_Competitions\\Emotional-Tone-Detection\\preprocessing_experiments.ipynb Cell 23\u001b[0m in \u001b[0;36m<cell line: 1>\u001b[1;34m()\u001b[0m\n\u001b[1;32m----> <a href='vscode-notebook-cell:/e%3A/Projects_Competitions/Emotional-Tone-Detection/preprocessing_experiments.ipynb#X31sZmlsZQ%3D%3D?line=0'>1</a>\u001b[0m experiment4\u001b[39m.\u001b[39mto_csv(\u001b[39m\"\u001b[39m\u001b[39mText Preprocessing Experimentations/exp4_train_rtp_rl_re_cat_rl_arstemmer.csv\u001b[39m\u001b[39m\"\u001b[39m, index\u001b[39m=\u001b[39m\u001b[39mFalse\u001b[39;00m)\n",
      "\u001b[1;31mNameError\u001b[0m: name 'experiment4' is not defined"
     ]
    }
   ],
   "source": [
    "experiment4.to_csv(\"Text Preprocessing Experimentations/exp4_train_rtp_rl_re_cat_rl_arstemmer.csv\")"
   ]
  },
  {
   "cell_type": "markdown",
   "metadata": {},
   "source": [
    "### Experiment 5"
   ]
  },
  {
   "cell_type": "code",
   "execution_count": 9,
   "metadata": {},
   "outputs": [],
   "source": [
    "experiment5 = pd.read_csv('Text Preprocessing Experimentations/exp2_train_rtp_rl_re_cat_rl_farasa.csv')"
   ]
  },
  {
   "cell_type": "code",
   "execution_count": 10,
   "metadata": {},
   "outputs": [],
   "source": [
    "experiment5.dropna(inplace=True)"
   ]
  },
  {
   "cell_type": "code",
   "execution_count": 11,
   "metadata": {},
   "outputs": [],
   "source": [
    "experiment5['tweet'] = experiment5.tweet.map(lambda tweet : normalize(tweet))\n",
    "experiment5['tweet'] = experiment5.tweet.map(lambda tweet : remove_stop_words(tweet))"
   ]
  },
  {
   "cell_type": "code",
   "execution_count": 12,
   "metadata": {},
   "outputs": [],
   "source": [
    "experiment5.to_csv(\"Text Preprocessing Experimentations/exp5_train_rtp_rl_re_cat_rl_farasa_n_rmw.csv\")"
   ]
  },
  {
   "cell_type": "markdown",
   "metadata": {},
   "source": [
    "### Experiment 6"
   ]
  },
  {
   "cell_type": "code",
   "execution_count": 22,
   "metadata": {},
   "outputs": [],
   "source": [
    "experiment6 = pd.read_csv('Text Preprocessing Experimentations/exp1_train_rtp_rl_re_cat_rl_qalsadi.csv')"
   ]
  },
  {
   "cell_type": "code",
   "execution_count": 23,
   "metadata": {},
   "outputs": [],
   "source": [
    "experiment6.dropna(inplace=True)"
   ]
  },
  {
   "cell_type": "code",
   "execution_count": 24,
   "metadata": {},
   "outputs": [],
   "source": [
    "experiment6['tweet'] = experiment6.tweet.map(lambda tweet : normalize(tweet))\n",
    "experiment6['tweet'] = experiment6.tweet.map(lambda tweet : remove_stop_words(tweet))"
   ]
  },
  {
   "cell_type": "code",
   "execution_count": 25,
   "metadata": {},
   "outputs": [],
   "source": [
    "experiment6.to_csv(\"Text Preprocessing Experimentations/exp6_train_rtp_rl_re_cat_rl_qalsadi_n_rmw.csv\")"
   ]
  },
  {
   "cell_type": "markdown",
   "metadata": {},
   "source": [
    "### Experiment 7"
   ]
  },
  {
   "cell_type": "code",
   "execution_count": 5,
   "metadata": {},
   "outputs": [],
   "source": [
    "experiment7 = df_train.copy()"
   ]
  },
  {
   "cell_type": "code",
   "execution_count": 6,
   "metadata": {},
   "outputs": [],
   "source": [
    "experiment7['tweet'] = experiment7.tweet.map(lambda tweet : remove_tag_persons(tweet))\n",
    "experiment7['tweet'] = experiment7.tweet.map(lambda tweet : remove_links(tweet))\n",
    "experiment7['tweet'] = experiment7.tweet.map(lambda tweet : clean_(tweet))\n",
    "experiment7['tweet'] = experiment7.tweet.map(lambda tweet : replace_lexicon(tweet))\n",
    "experiment7['tweet'] = experiment7.tweet.map(lambda tweet : replace_emojies(tweet))\n",
    "experiment7['tweet'] = experiment7.tweet.map(lambda tweet : clean_arabic_text(tweet))\n",
    "experiment7['tweet'] = experiment7.tweet.map(lambda tweet : remove_longation(tweet))\n",
    "experiment7['tweet'] = experiment7.tweet.map(lambda tweet : qalsadi_lemmatizer(tweet))"
   ]
  },
  {
   "cell_type": "code",
   "execution_count": 7,
   "metadata": {},
   "outputs": [],
   "source": [
    "experiment7.to_csv(\"Text Preprocessing Experimentations/exp7_train_rtp_rl_rd_n_lex_re_cat_rl_qalsadi.csv\")"
   ]
  },
  {
   "cell_type": "markdown",
   "metadata": {},
   "source": [
    "### Experiment 8"
   ]
  },
  {
   "cell_type": "code",
   "execution_count": 9,
   "metadata": {},
   "outputs": [],
   "source": [
    "experiment8 = df_train.copy()"
   ]
  },
  {
   "cell_type": "code",
   "execution_count": 10,
   "metadata": {},
   "outputs": [],
   "source": [
    "experiment8['tweet'] = experiment8.tweet.map(lambda tweet : remove_tag_persons(tweet))\n",
    "experiment8['tweet'] = experiment8.tweet.map(lambda tweet : remove_links(tweet))\n",
    "experiment8['tweet'] = experiment8.tweet.map(lambda tweet : replace_lexicon(tweet))\n",
    "experiment8['tweet'] = experiment8.tweet.map(lambda tweet : replace_emojies(tweet))\n",
    "experiment8['tweet'] = experiment8.tweet.map(lambda tweet : clean_arabic_text(tweet))\n",
    "experiment8['tweet'] = experiment8.tweet.map(lambda tweet : remove_longation(tweet))\n",
    "experiment8['tweet'] = experiment8.tweet.map(lambda tweet : qalsadi_lemmatizer(tweet))"
   ]
  },
  {
   "cell_type": "code",
   "execution_count": 11,
   "metadata": {},
   "outputs": [],
   "source": [
    "experiment8.to_csv(\"Text Preprocessing Experimentations/exp8_train_rtp_rl_rd_lex_re_cat_rl_qalsadi.csv\")"
   ]
  },
  {
   "cell_type": "markdown",
   "metadata": {},
   "source": [
    "### Experiment 9"
   ]
  },
  {
   "cell_type": "code",
   "execution_count": 10,
   "metadata": {},
   "outputs": [],
   "source": [
    "experiment9 = df_train.copy()"
   ]
  },
  {
   "cell_type": "code",
   "execution_count": 11,
   "metadata": {},
   "outputs": [],
   "source": [
    "experiment9['tweet'] = experiment9.tweet.map(lambda tweet : remove_tag_persons(tweet))\n",
    "experiment9['tweet'] = experiment9.tweet.map(lambda tweet : remove_links(tweet))\n",
    "experiment9['tweet'] = experiment9.tweet.map(lambda tweet : replace_emojies(tweet))\n",
    "experiment9['tweet'] = experiment9.tweet.map(lambda tweet : clean_arabic_text(tweet))\n",
    "experiment9['tweet'] = experiment9.tweet.map(lambda tweet : remove_longation(tweet))"
   ]
  },
  {
   "cell_type": "code",
   "execution_count": 12,
   "metadata": {},
   "outputs": [],
   "source": [
    "experiment9.to_csv(\"Text Preprocessing Experimentations/exp9_train_rtp_rl_re_cat_rl.csv\")"
   ]
  },
  {
   "cell_type": "markdown",
   "metadata": {},
   "source": [
    "## Experimentations Analysis"
   ]
  },
  {
   "cell_type": "code",
   "execution_count": 15,
   "metadata": {},
   "outputs": [],
   "source": [
    "farasa_exp = pd.read_csv('Text Preprocessing Experimentations/exp2_train_rtp_rl_re_cat_rl_farasa.csv')\n",
    "qalsadi_exp = pd.read_csv('Text Preprocessing Experimentations/exp1_train_rtp_rl_re_cat_rl_qalsadi.csv')\n",
    "snowball_exp = pd.read_csv('Text Preprocessing Experimentations/exp3_train_rtp_rl_re_cat_rl_snowball.csv')\n",
    "arstemmer_exp = pd.read_csv('Text Preprocessing Experimentations/exp4_train_rtp_rl_re_cat_rl_arstemmer.csv')"
   ]
  },
  {
   "cell_type": "code",
   "execution_count": 16,
   "metadata": {},
   "outputs": [],
   "source": [
    "farasa_exp.dropna(inplace = True)\n",
    "qalsadi_exp.dropna(inplace = True)\n",
    "snowball_exp.dropna(inplace = True)\n",
    "arstemmer_exp.dropna(inplace = True)"
   ]
  },
  {
   "cell_type": "code",
   "execution_count": 17,
   "metadata": {},
   "outputs": [
    {
     "name": "stdout",
     "output_type": "stream",
     "text": [
      "Original Token Count:      32563\n",
      "Farasa Token Count:      13331\n",
      "Qalsadi Token Count:     14052\n",
      "SnowBall Token Count:      15186\n",
      "ArStemmer Token Count:      16133\n"
     ]
    }
   ],
   "source": [
    "farasa_tokens = set(nltk.tokenize.wordpunct_tokenize(' '.join(farasa_exp['tweet'].to_numpy().flatten())))\n",
    "qalsadi_tokens = set(nltk.tokenize.wordpunct_tokenize(' '.join(qalsadi_exp['tweet'].to_numpy().flatten())))\n",
    "snowball_tokens = set(nltk.tokenize.wordpunct_tokenize(' '.join(snowball_exp['tweet'].to_numpy().flatten())))\n",
    "arstemmer_tokens = set(nltk.tokenize.wordpunct_tokenize(' '.join(arstemmer_exp['tweet'].to_numpy().flatten())))\n",
    "original_tokens = set(nltk.tokenize.wordpunct_tokenize(' '.join(df_train['tweet'].to_numpy().flatten())))\n",
    "\n",
    "print(\"Original Token Count:      {}\\nFarasa Token Count:      {}\\nQalsadi Token Count:     {}\\nSnowBall Token Count:      {}\\nArStemmer Token Count:      {}\"\n",
    "                                                                        .format(len(original_tokens),\n",
    "                                                                                len(farasa_tokens), \n",
    "                                                                                len(qalsadi_tokens), \n",
    "                                                                                len(snowball_tokens),\n",
    "                                                                                len(arstemmer_tokens)))"
   ]
  },
  {
   "cell_type": "code",
   "execution_count": 20,
   "metadata": {},
   "outputs": [
    {
     "name": "stdout",
     "output_type": "stream",
     "text": [
      " Farasa Token Count After Normalizing & Removing Stop Words:       12245\n"
     ]
    }
   ],
   "source": [
    "farasa_rmw_exp = pd.read_csv('Text Preprocessing Experimentations/exp5_train_rtp_rl_re_cat_rl_farasa_n_rmw.csv')\n",
    "farasa_rmw_exp.dropna(inplace = True)\n",
    "farasa_rmw_tokens = set(nltk.tokenize.wordpunct_tokenize(' '.join(farasa_rmw_exp['tweet'].to_numpy().flatten())))\n",
    "print(\" Farasa Token Count After Normalizing & Removing Stop Words:       {}\".format(len(farasa_rmw_tokens)))"
   ]
  },
  {
   "cell_type": "code",
   "execution_count": 8,
   "metadata": {},
   "outputs": [
    {
     "name": "stdout",
     "output_type": "stream",
     "text": [
      "Qalsadi Token Count with lexicons, removed diacritics, and normalization:       13904\n"
     ]
    }
   ],
   "source": [
    "qalsadi_lexicon_exp = pd.read_csv('Text Preprocessing Experimentations/exp7_train_rtp_rl_rd_n_lex_re_cat_rl_qalsadi.csv')\n",
    "qalsadi_lexicon_exp.dropna(inplace = True)\n",
    "qalsadi_lexicon_tokens = set(nltk.tokenize.wordpunct_tokenize(' '.join(qalsadi_lexicon_exp['tweet'].to_numpy().flatten())))\n",
    "print(\"Qalsadi Token Count with lexicons & normalization:       {}\".format(len(qalsadi_lexicon_tokens)))"
   ]
  },
  {
   "cell_type": "code",
   "execution_count": 8,
   "metadata": {},
   "outputs": [
    {
     "name": "stdout",
     "output_type": "stream",
     "text": [
      "Qalsadi Token Count with lexicons:       13942\n"
     ]
    }
   ],
   "source": [
    "qalsadi_lex_exp = pd.read_csv('Text Preprocessing Experimentations/exp8_train_rtp_rl_rd_lex_re_cat_rl_qalsadi.csv')\n",
    "qalsadi_lex_exp.dropna(inplace = True)\n",
    "qalsadi_lex_tokens = set(nltk.tokenize.wordpunct_tokenize(' '.join(qalsadi_lex_exp['tweet'].to_numpy().flatten())))\n",
    "print(\"Qalsadi Token Count with lexicons:       {}\".format(len(qalsadi_lex_tokens)))"
   ]
  },
  {
   "cell_type": "code",
   "execution_count": null,
   "metadata": {},
   "outputs": [],
   "source": []
  }
 ],
 "metadata": {
  "kernelspec": {
   "display_name": "Python 3.10.2 64-bit",
   "language": "python",
   "name": "python3"
  },
  "language_info": {
   "codemirror_mode": {
    "name": "ipython",
    "version": 3
   },
   "file_extension": ".py",
   "mimetype": "text/x-python",
   "name": "python",
   "nbconvert_exporter": "python",
   "pygments_lexer": "ipython3",
   "version": "3.10.2"
  },
  "orig_nbformat": 4,
  "vscode": {
   "interpreter": {
    "hash": "369f2c481f4da34e4445cda3fffd2e751bd1c4d706f27375911949ba6bb62e1c"
   }
  }
 },
 "nbformat": 4,
 "nbformat_minor": 2
}
