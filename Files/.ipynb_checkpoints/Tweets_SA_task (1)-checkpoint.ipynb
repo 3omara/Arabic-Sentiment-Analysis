{
 "cells": [
  {
   "cell_type": "markdown",
   "metadata": {
    "id": "fKoGGi6kLGOO"
   },
   "source": [
    "# Importing Modules and loading data"
   ]
  },
  {
   "cell_type": "code",
   "execution_count": 17,
   "metadata": {
    "id": "Zei7t37M3Zf9"
   },
   "outputs": [],
   "source": [
    "# import sys"
   ]
  },
  {
   "cell_type": "code",
   "execution_count": 18,
   "metadata": {
    "id": "9RrQmZ4V3dX8"
   },
   "outputs": [],
   "source": [
    "# sys.path.append(\"/content/drive/MyDrive/drive/Files\")"
   ]
  },
  {
   "cell_type": "code",
   "execution_count": 19,
   "metadata": {
    "colab": {
     "base_uri": "https://localhost:8080/",
     "height": 409
    },
    "id": "UrjWYyRaH06H",
    "outputId": "6a81f367-faab-46f2-f597-6bd3da2443c6"
   },
   "outputs": [
    {
     "name": "stderr",
     "output_type": "stream",
     "text": [
      "[nltk_data] Downloading package punkt to\n",
      "[nltk_data]     C:\\Users\\yosr\\AppData\\Roaming\\nltk_data...\n",
      "[nltk_data]   Package punkt is already up-to-date!\n"
     ]
    }
   ],
   "source": [
    "import pandas as pd\n",
    "import numpy as np\n",
    "import matplotlib.pyplot as plt\n",
    "import string\n",
    "import re\n",
    "# from google.colab import files\n",
    "from nltk.corpus import stopwords\n",
    "import nltk\n",
    "import seaborn as sns\n",
    "nltk.download('punkt')\n",
    "\n",
    "from sklearn.model_selection import train_test_split, GridSearchCV\n",
    "from sklearn.feature_extraction.text import TfidfVectorizer\n",
    "from sklearn.feature_extraction.text import CountVectorizer\n",
    "from sklearn.pipeline import make_pipeline\n",
    "from sklearn.linear_model import LogisticRegression\n",
    "from sklearn.ensemble import RandomForestClassifier\n",
    "from sklearn.naive_bayes import MultinomialNB\n",
    "from sklearn.svm import SVC\n",
    "from sklearn.metrics import confusion_matrix,accuracy_score, classification_report\n",
    "\n",
    "import ArStemmerLib as lib\n",
    "import lexicon\n",
    "from lexicon import calc_lexicon"
   ]
  },
  {
   "cell_type": "code",
   "execution_count": 20,
   "metadata": {
    "id": "5hoiqKn83nkV"
   },
   "outputs": [],
   "source": [
    "# from google.colab import drive\n",
    "# drive.mount('/content/drive')"
   ]
  },
  {
   "cell_type": "code",
   "execution_count": 21,
   "metadata": {
    "id": "K8NHuxV9Jiqq"
   },
   "outputs": [],
   "source": [
    "df2 = pd.read_csv('tweets.csv')\n",
    "df1 = pd.read_csv('NU_EG_Twitter_corpus_train.csv')"
   ]
  },
  {
   "cell_type": "code",
   "execution_count": 22,
   "metadata": {
    "colab": {
     "base_uri": "https://localhost:8080/",
     "height": 363
    },
    "id": "xNOYV_WBOqhF",
    "outputId": "951d2884-61ee-405f-9ee6-eb2772adbab2"
   },
   "outputs": [
    {
     "data": {
      "text/html": [
       "<div>\n",
       "<style scoped>\n",
       "    .dataframe tbody tr th:only-of-type {\n",
       "        vertical-align: middle;\n",
       "    }\n",
       "\n",
       "    .dataframe tbody tr th {\n",
       "        vertical-align: top;\n",
       "    }\n",
       "\n",
       "    .dataframe thead th {\n",
       "        text-align: right;\n",
       "    }\n",
       "</style>\n",
       "<table border=\"1\" class=\"dataframe\">\n",
       "  <thead>\n",
       "    <tr style=\"text-align: right;\">\n",
       "      <th></th>\n",
       "      <th>id</th>\n",
       "      <th>sentiment</th>\n",
       "      <th>tweet</th>\n",
       "    </tr>\n",
       "  </thead>\n",
       "  <tbody>\n",
       "    <tr>\n",
       "      <th>0</th>\n",
       "      <td>271</td>\n",
       "      <td>negative</td>\n",
       "      <td>فينو الاهبل ابن الاهبل</td>\n",
       "    </tr>\n",
       "    <tr>\n",
       "      <th>1</th>\n",
       "      <td>131</td>\n",
       "      <td>positive</td>\n",
       "      <td>على المصرييييين وجمالهم ربنا يحميهم #MinaAtta ...</td>\n",
       "    </tr>\n",
       "    <tr>\n",
       "      <th>2</th>\n",
       "      <td>118</td>\n",
       "      <td>positive</td>\n",
       "      <td>@Kholoudkewan  دول كتير اوى ودمهم خفيف العمارة...</td>\n",
       "    </tr>\n",
       "    <tr>\n",
       "      <th>3</th>\n",
       "      <td>6</td>\n",
       "      <td>negative</td>\n",
       "      <td>انا بعد كده  خلى اللى يوعنى   بحاجه همضى على و...</td>\n",
       "    </tr>\n",
       "    <tr>\n",
       "      <th>4</th>\n",
       "      <td>3430</td>\n",
       "      <td>negative</td>\n",
       "      <td>انا هنتحر</td>\n",
       "    </tr>\n",
       "    <tr>\n",
       "      <th>5</th>\n",
       "      <td>4</td>\n",
       "      <td>positive</td>\n",
       "      <td>في حفظ الله يا ريس http://t.co/RGKtP9QHZB</td>\n",
       "    </tr>\n",
       "    <tr>\n",
       "      <th>6</th>\n",
       "      <td>5</td>\n",
       "      <td>positive</td>\n",
       "      <td>يا عيون عطشان عطشانة سهر يا قلوب تعبانة تعبانة...</td>\n",
       "    </tr>\n",
       "    <tr>\n",
       "      <th>7</th>\n",
       "      <td>10</td>\n",
       "      <td>negative</td>\n",
       "      <td>#زهقنا_من اسامي اكونتات البنات على مواقع التوا...</td>\n",
       "    </tr>\n",
       "    <tr>\n",
       "      <th>8</th>\n",
       "      <td>11</td>\n",
       "      <td>positive</td>\n",
       "      <td>@Omarr793 حمد الله ع السلامة ✋</td>\n",
       "    </tr>\n",
       "    <tr>\n",
       "      <th>9</th>\n",
       "      <td>12</td>\n",
       "      <td>negative</td>\n",
       "      <td>@ahmedeslam07 أحا مين ؟!</td>\n",
       "    </tr>\n",
       "  </tbody>\n",
       "</table>\n",
       "</div>"
      ],
      "text/plain": [
       "     id sentiment                                              tweet\n",
       "0   271  negative                             فينو الاهبل ابن الاهبل\n",
       "1   131  positive  على المصرييييين وجمالهم ربنا يحميهم #MinaAtta ...\n",
       "2   118  positive  @Kholoudkewan  دول كتير اوى ودمهم خفيف العمارة...\n",
       "3     6  negative  انا بعد كده  خلى اللى يوعنى   بحاجه همضى على و...\n",
       "4  3430  negative                                          انا هنتحر\n",
       "5     4  positive          في حفظ الله يا ريس http://t.co/RGKtP9QHZB\n",
       "6     5  positive  يا عيون عطشان عطشانة سهر يا قلوب تعبانة تعبانة...\n",
       "7    10  negative  #زهقنا_من اسامي اكونتات البنات على مواقع التوا...\n",
       "8    11  positive                     @Omarr793 حمد الله ع السلامة ✋\n",
       "9    12  negative                           @ahmedeslam07 أحا مين ؟!"
      ]
     },
     "execution_count": 22,
     "metadata": {},
     "output_type": "execute_result"
    }
   ],
   "source": [
    "df1.head(10)"
   ]
  },
  {
   "cell_type": "code",
   "execution_count": 23,
   "metadata": {
    "id": "Jev7UF4nhv_D"
   },
   "outputs": [],
   "source": [
    "df2.rename(columns={\"text\":\"tweet\"},inplace=True)"
   ]
  },
  {
   "cell_type": "code",
   "execution_count": 24,
   "metadata": {
    "id": "jfnfj8cGfZvg"
   },
   "outputs": [],
   "source": [
    "#Appending the data of the two datasets into one data frame\n",
    "df = df2.append(df1,ignore_index = True)"
   ]
  },
  {
   "cell_type": "code",
   "execution_count": 25,
   "metadata": {
    "colab": {
     "base_uri": "https://localhost:8080/"
    },
    "id": "kbkbV9BIhOdw",
    "outputId": "5bd11a35-02d3-4169-e4c3-e71f0806cb59"
   },
   "outputs": [
    {
     "name": "stdout",
     "output_type": "stream",
     "text": [
      "<class 'pandas.core.frame.DataFrame'>\n",
      "RangeIndex: 12605 entries, 0 to 12604\n",
      "Data columns (total 3 columns):\n",
      " #   Column     Non-Null Count  Dtype  \n",
      "---  ------     --------------  -----  \n",
      " 0   tweet      12605 non-null  object \n",
      " 1   sentiment  11787 non-null  object \n",
      " 2   id         2746 non-null   float64\n",
      "dtypes: float64(1), object(2)\n",
      "memory usage: 295.6+ KB\n"
     ]
    }
   ],
   "source": [
    "df.info()"
   ]
  },
  {
   "cell_type": "code",
   "execution_count": 26,
   "metadata": {
    "id": "ZdPekQ88fq2m"
   },
   "outputs": [],
   "source": [
    "df.drop(df[df['sentiment']=='OBJ'].index, inplace = True)\n",
    "df.drop(df[df['sentiment']=='OBJ\"'].index, inplace = True)"
   ]
  },
  {
   "cell_type": "code",
   "execution_count": 27,
   "metadata": {
    "id": "ZGjR50Y2i_wY"
   },
   "outputs": [],
   "source": [
    "df.drop(\"id\", axis=1, inplace=True)"
   ]
  },
  {
   "cell_type": "code",
   "execution_count": 28,
   "metadata": {
    "colab": {
     "base_uri": "https://localhost:8080/"
    },
    "id": "Vlj37wFGiLOO",
    "outputId": "0636b169-7840-417f-bb81-23be122a896a"
   },
   "outputs": [
    {
     "name": "stdout",
     "output_type": "stream",
     "text": [
      "<class 'pandas.core.frame.DataFrame'>\n",
      "Int64Index: 6637 entries, 1 to 12604\n",
      "Data columns (total 2 columns):\n",
      " #   Column     Non-Null Count  Dtype \n",
      "---  ------     --------------  ----- \n",
      " 0   tweet      6637 non-null   object\n",
      " 1   sentiment  5819 non-null   object\n",
      "dtypes: object(2)\n",
      "memory usage: 155.6+ KB\n"
     ]
    }
   ],
   "source": [
    "df.info()"
   ]
  },
  {
   "cell_type": "code",
   "execution_count": 29,
   "metadata": {
    "id": "OAo1GEUejnmw"
   },
   "outputs": [],
   "source": [
    "df = df.dropna()"
   ]
  },
  {
   "cell_type": "code",
   "execution_count": 30,
   "metadata": {
    "colab": {
     "base_uri": "https://localhost:8080/"
    },
    "id": "7YUwwakVjsBf",
    "outputId": "617b1a14-e1e2-41d8-e427-f6d486ce65b6"
   },
   "outputs": [
    {
     "name": "stdout",
     "output_type": "stream",
     "text": [
      "<class 'pandas.core.frame.DataFrame'>\n",
      "Int64Index: 5819 entries, 1 to 12604\n",
      "Data columns (total 2 columns):\n",
      " #   Column     Non-Null Count  Dtype \n",
      "---  ------     --------------  ----- \n",
      " 0   tweet      5819 non-null   object\n",
      " 1   sentiment  5819 non-null   object\n",
      "dtypes: object(2)\n",
      "memory usage: 136.4+ KB\n"
     ]
    }
   ],
   "source": [
    "df.info()"
   ]
  },
  {
   "cell_type": "code",
   "execution_count": 31,
   "metadata": {
    "colab": {
     "base_uri": "https://localhost:8080/"
    },
    "id": "bxxQj5jKm4oS",
    "outputId": "fa4fc526-aec9-46ae-faec-1cccce5c0d71"
   },
   "outputs": [],
   "source": [
    "df['sentiment'] = df['sentiment'].replace(['NEG\"'],'negative')\n",
    "df['sentiment'] = df['sentiment'].replace(['POS\"'],'positive')\n",
    "df['sentiment'] = df['sentiment'].replace(['NEG'],'negative')\n",
    "df['sentiment'] = df['sentiment'].replace(['POS'],'positive')\n",
    "df['sentiment'] = df['sentiment'].replace(['NEUTRAL'],'neutral')\n"
   ]
  },
  {
   "cell_type": "code",
   "execution_count": 32,
   "metadata": {
    "colab": {
     "base_uri": "https://localhost:8080/",
     "height": 206
    },
    "id": "LgTZtudCnAYh",
    "outputId": "584ef3a6-cca0-4a84-b764-4cc45ed9ce38"
   },
   "outputs": [
    {
     "data": {
      "text/html": [
       "<div>\n",
       "<style scoped>\n",
       "    .dataframe tbody tr th:only-of-type {\n",
       "        vertical-align: middle;\n",
       "    }\n",
       "\n",
       "    .dataframe tbody tr th {\n",
       "        vertical-align: top;\n",
       "    }\n",
       "\n",
       "    .dataframe thead th {\n",
       "        text-align: right;\n",
       "    }\n",
       "</style>\n",
       "<table border=\"1\" class=\"dataframe\">\n",
       "  <thead>\n",
       "    <tr style=\"text-align: right;\">\n",
       "      <th></th>\n",
       "      <th>tweet</th>\n",
       "      <th>sentiment</th>\n",
       "    </tr>\n",
       "  </thead>\n",
       "  <tbody>\n",
       "    <tr>\n",
       "      <th>1</th>\n",
       "      <td>أهنئ الدكتور أحمد جمال الدين، القيادي بحزب مصر...</td>\n",
       "      <td>positive</td>\n",
       "    </tr>\n",
       "    <tr>\n",
       "      <th>2</th>\n",
       "      <td>البرادعي يستقوى بامريكا مرةاخرى و يرسل عصام ال...</td>\n",
       "      <td>negative</td>\n",
       "    </tr>\n",
       "    <tr>\n",
       "      <th>4</th>\n",
       "      <td>الوالدة لو اقولها بخاطري حشيشة تضحك بس من اقول...</td>\n",
       "      <td>neutral</td>\n",
       "    </tr>\n",
       "    <tr>\n",
       "      <th>5</th>\n",
       "      <td>#انتخبوا_العرص #انتخبوا_البرص #مرسى_رئيسى #اين...</td>\n",
       "      <td>neutral</td>\n",
       "    </tr>\n",
       "    <tr>\n",
       "      <th>6</th>\n",
       "      <td>امير عيد هو اللي فعلا يتقال عليه ستريكر صريح #...</td>\n",
       "      <td>positive</td>\n",
       "    </tr>\n",
       "  </tbody>\n",
       "</table>\n",
       "</div>"
      ],
      "text/plain": [
       "                                               tweet sentiment\n",
       "1  أهنئ الدكتور أحمد جمال الدين، القيادي بحزب مصر...  positive\n",
       "2  البرادعي يستقوى بامريكا مرةاخرى و يرسل عصام ال...  negative\n",
       "4  الوالدة لو اقولها بخاطري حشيشة تضحك بس من اقول...   neutral\n",
       "5  #انتخبوا_العرص #انتخبوا_البرص #مرسى_رئيسى #اين...   neutral\n",
       "6  امير عيد هو اللي فعلا يتقال عليه ستريكر صريح #...  positive"
      ]
     },
     "execution_count": 32,
     "metadata": {},
     "output_type": "execute_result"
    }
   ],
   "source": [
    "df.head()"
   ]
  },
  {
   "cell_type": "code",
   "execution_count": 33,
   "metadata": {
    "colab": {
     "base_uri": "https://localhost:8080/",
     "height": 279
    },
    "id": "dWmCJDvoQWET",
    "outputId": "98f72455-5352-4b51-f998-bc14483e32ac"
   },
   "outputs": [
    {
     "data": {
      "image/png": "[encoded data removed]",
      "text/plain": [
       "<Figure size 432x288 with 1 Axes>"
      ]
     },
     "metadata": {
      "needs_background": "light"
     },
     "output_type": "display_data"
    }
   ],
   "source": [
    "_ = sns.countplot(x='sentiment', data=df)"
   ]
  },
  {
   "cell_type": "markdown",
   "metadata": {
    "id": "8cveeM7yMA-4"
   },
   "source": [
    "# **Preprocessing**"
   ]
  },
  {
   "cell_type": "markdown",
   "metadata": {
    "id": "dQz-9w8gNwfd"
   },
   "source": [
    "# Removing links and tags"
   ]
  },
  {
   "cell_type": "code",
   "execution_count": 34,
   "metadata": {
    "id": "Zqt_zZtjN36E"
   },
   "outputs": [],
   "source": [
    "def remove_links(tweet):\n",
    "    tweet = tweet.strip()\n",
    "    tweet = u\"%s\" %tweet\n",
    "    tweet = re.sub(r\"http\\S+\", \"\", tweet)\n",
    "    return tweet"
   ]
  },
  {
   "cell_type": "markdown",
   "metadata": {
    "id": "h1kOQoh6MLWa"
   },
   "source": [
    "# Removing Stop words \n"
   ]
  },
  {
   "cell_type": "code",
   "execution_count": 36,
   "metadata": {
    "id": "pqLEFYydMFCG"
   },
   "outputs": [],
   "source": [
    "#reading stop words from the file\n",
    "f = open(\"arabicStops.txt\")\n",
    "ar_stop_words = f.read()\n",
    "ar_stop_words = ar_stop_words.split('\\n')\n",
    "ar_stop_words = set(ar_stop_words)"
   ]
  },
  {
   "cell_type": "code",
   "execution_count": 37,
   "metadata": {
    "id": "fXyycITfNcQh"
   },
   "outputs": [],
   "source": [
    "def remove_stop_words(tweet):\n",
    "    tweet = tweet.strip()\n",
    "    tweet = u\"%s\" %tweet\n",
    "    curr = \"\"\n",
    "    for word in  re.split(\"\\W+\",tweet):\n",
    "        if word not in ar_stop_words: \n",
    "            curr = curr + word +\" \"\n",
    "    curr = curr.strip()\n",
    "    return curr"
   ]
  },
  {
   "cell_type": "markdown",
   "metadata": {
    "id": "VheN9F5mOHnu"
   },
   "source": [
    "# Replacing emojis"
   ]
  },
  {
   "cell_type": "code",
   "execution_count": 38,
   "metadata": {
    "id": "sgMzXnm4OPMm"
   },
   "outputs": [],
   "source": [
    "#reading emojis from file\n",
    "f1 = open(u'PositiveEmoji.txt','r')\n",
    "PositiveEmoji = list(f1.read().split('\\n'))\n",
    "f2 = open(u'NegativeEmoji.txt','r',encoding='utf-8-sig')\n",
    "NegativeEmoji = list(f2.read().split('\\n'))"
   ]
  },
  {
   "cell_type": "code",
   "execution_count": 39,
   "metadata": {
    "id": "1t0FVbQmPl99"
   },
   "outputs": [],
   "source": [
    "def stripChar(list_chars):\n",
    "    strippedList = []\n",
    "    for character in list_chars:\n",
    "        strippedList.append(character.strip())\n",
    "    return(strippedList)\n",
    "\n",
    "PositiveEmojistr = stripChar(PositiveEmoji)\n",
    "NegativeEmojistr = stripChar(NegativeEmoji)"
   ]
  },
  {
   "cell_type": "code",
   "execution_count": 40,
   "metadata": {
    "id": "0GOeJXAjPuaU"
   },
   "outputs": [],
   "source": [
    "def replace_emoticons(tweet_with_emo):\n",
    "    extracted_emot = emot.emoticons(u'%s' %tweet_with_emo)\n",
    "    extracted_emoji = emot.emoji(u'%s' %tweet_with_emo)\n",
    "    for emots in extracted_emot:\n",
    "        if emots['value'] in PositiveEmojistr:\n",
    "            tweet_with_emo = tweet_with_emo.replace( emots['value'], \"ايموشنموجب\" )\n",
    "        elif emots['value'] in NegativeEmojistr:\n",
    "            tweet_with_emo = tweet_with_emo.replace( emots['value'], \"ايموشنسالب\" )\n",
    "            \n",
    "    for emojis in extracted_emoji:\n",
    "        if emojis['value'] in PositiveEmojistr:\n",
    "            tweet_with_emo = tweet_with_emo.replace( emojis['value'], \" ايموشنموجب\" )\n",
    "        elif emojis['value'] in NegativeEmojistr:\n",
    "            tweet_with_emo = tweet_with_emo.replace( emojis['value'], \" ايموشنسالب\" )\n",
    "    return(tweet_with_emo)"
   ]
  },
  {
   "cell_type": "markdown",
   "metadata": {
    "id": "11ncLrSfP5PJ"
   },
   "source": [
    "# Removing extras"
   ]
  },
  {
   "cell_type": "code",
   "execution_count": 41,
   "metadata": {
    "id": "q_M0mevrP4r_"
   },
   "outputs": [],
   "source": [
    "from bs4 import BeautifulSoup\n",
    "def remove_amp(tweet):\n",
    "    tweet = tweet.strip()\n",
    "    tweet = u\"%s\" %tweet\n",
    "    tweet = BeautifulSoup(tweet , \"html5lib\").get_text()\n",
    "    return tweet\n",
    "    \n",
    "#removing hash without removing the hashtag\n",
    "def remove_hash(tweet):\n",
    "    tweet = tweet.strip()\n",
    "    tweet = u\"%s\" %tweet\n",
    "    tweet = re.sub(r\"#\", \"\", tweet)\n",
    "    return tweet\n",
    "    \n",
    "#remove under score    \n",
    "def remove_under_score(tweet):\n",
    "    tweet = tweet.strip()\n",
    "    tweet = u\"%s\" %tweet\n",
    "    tweet = lambda tweet : re.sub(r\"_\", \" \", tweet)\n",
    "    return tweet\n",
    "\n",
    "#remove longation\n",
    "def remove_longation(text):\n",
    "    text = text.strip()\n",
    "    text = u\"%s\" %text\n",
    "    p_longation = re.compile(r'(.)\\1+')\n",
    "    subst = r\"\\1\\1\"\n",
    "    text = re.sub(p_longation, subst, text)\n",
    "    text = text.replace('وو', 'و')\n",
    "    text = text.replace('يي', 'ي')\n",
    "    text = text.replace('اا', 'ا')\n",
    "    return(text)\n",
    "\n",
    "\n",
    "#cleaning the string\n",
    "def clean_str(text):\n",
    "    text = text.strip()\n",
    "    text = u\"%s\" %text\n",
    "    search = [\"أ\",\"إ\",\"آ\",\"ة\",\"_\",\"-\",\"/\",\".\",\"،\",\" و \",\" يا \",'\"',\"ـ\",\"'\",\"ى\",\"\\\\\",'\\n', '\\t','&quot;','?','؟','!']\n",
    "    replace = [\"ا\",\"ا\",\"ا\",\"ه\",\" \",\" \",\"\",\"\",\"\",\" و\",\" يا\",\"\",\"\",\"\",\"ي\",\"\",' ', ' ',' ',' ? ',' ؟ ',' ! ']\n",
    "    for i in range(0, len(search)):\n",
    "        text = text.replace(search[i], replace[i])\n",
    "    #trim    \n",
    "    text = text.strip()\n",
    "    return text\n",
    "    \n",
    "#clean seperately\n",
    "def remove_prt(tweet):\n",
    "    tweet = tweet.strip()\n",
    "    tweet = u\"%s\" %tweet\n",
    "    tweet = re.sub(r\"#prt\", \" \", tweet)\n",
    "    return tweet\n",
    "    \n",
    "def remove_extrass(tweet):\n",
    "    tweet = tweet.strip()\n",
    "    tweet = u\"%s\" %tweet\n",
    "    tweet = re.sub(r\"\\\\\", \" \", tweet)\n",
    "    return tweet\n",
    "    \n",
    "def remove_tag_persons(tweet):\n",
    "    tweet = tweet.strip()\n",
    "    tweet = u\"%s\" %tweet\n",
    "    tweet = re.sub(r\"@\\S+\", \"\", tweet)\n",
    "    return tweet\n",
    "    \n",
    "def remove_dots(tweet):\n",
    "    tweet = tweet.strip()\n",
    "    tweet = u\"%s\" %tweet\n",
    "    tweet = tweet.replace(\".\", \"\")\n",
    "    return tweet"
   ]
  },
  {
   "cell_type": "markdown",
   "metadata": {
    "id": "Q3mda7bu_5DR"
   },
   "source": [
    "# Stemming"
   ]
  },
  {
   "cell_type": "code",
   "execution_count": 42,
   "metadata": {
    "colab": {
     "base_uri": "https://localhost:8080/",
     "height": 235
    },
    "id": "Wx6BLW3r_7d_",
    "outputId": "d2f1ba1a-aa2b-4c29-fd5d-5a1705982457"
   },
   "outputs": [],
   "source": [
    "stemmer = lib.ArStemmer()\n",
    "def stem_docs(tweet):\n",
    "        tweet = tweet.strip()\n",
    "        tweet = u\"%s\" %tweet\n",
    "        curr = \"\"\n",
    "        for word in tweet.split():  \n",
    "            curr = curr + stemmer.stem(word) +\" \"\n",
    "        curr = curr.strip()\n",
    "        return  curr"
   ]
  },
  {
   "cell_type": "markdown",
   "metadata": {
    "id": "_JU9GYlilEAx"
   },
   "source": [
    "# Calling methods for preprocessing"
   ]
  },
  {
   "cell_type": "code",
   "execution_count": 43,
   "metadata": {
    "id": "GsiNTH3TGyfF"
   },
   "outputs": [
    {
     "data": {
      "text/plain": [
       "1        أهنئ الدكتور أحمد جمال الدين، القيادي بحزب مصر...\n",
       "2        البرادعي يستقوى بامريكا مرةاخرى و يرسل عصام ال...\n",
       "4        الوالدة لو اقولها بخاطري حشيشة تضحك بس من اقول...\n",
       "5        #انتخبوا_العرص #انتخبوا_البرص #مرسى_رئيسى #اين...\n",
       "6        امير عيد هو اللي فعلا يتقال عليه ستريكر صريح #...\n",
       "                               ...                        \n",
       "12600    @wasfa_N الجمال مبيحتاح اي مكياج لناعم وله خشن...\n",
       "12601    @TheMurexDor نتمني وجود الفنانة رنا سماحة افضل...\n",
       "12602    ولد الهدى فالكائنات ضياء .. وفم الزمان تبسم وس...\n",
       "12603    @mohamed71944156 @samarroshdy1 انت متناقض جدا ...\n",
       "12604    منطقة السيدة زينب ليلة المولد @ مسجد السيدة زي...\n",
       "Name: tweet, Length: 5819, dtype: object"
      ]
     },
     "execution_count": 43,
     "metadata": {},
     "output_type": "execute_result"
    }
   ],
   "source": [
    "df['tweet']"
   ]
  },
  {
   "cell_type": "code",
   "execution_count": 44,
   "metadata": {
    "id": "oXPI8tHDk5Jl"
   },
   "outputs": [],
   "source": [
    "df['tweet'] = df.tweet.map(lambda tweet : stem_docs(tweet))\n",
    "df['tweet'] = df.tweet.map(lambda tweet : remove_longation(tweet))\n",
    "df['tweet'] = df.tweet.map(lambda tweet : remove_stop_words(tweet))\n",
    "df['tweet'] = df.tweet.map(lambda tweet : remove_links(tweet))\n",
    "df['tweet'] = df.tweet.map(lambda tweet : remove_amp(tweet))\n",
    "df['tweet'] = df.tweet.map(lambda tweet : remove_hash(tweet))\n",
    "df[\"tweet\"]= df.tweet.map(lambda tweet : re.sub(r\"_\", \" \", tweet))\n",
    "df['tweet'] = df.tweet.map(lambda tweet : clean_str(tweet))\n",
    "df['tweet'] = df.tweet.map(lambda tweet : remove_prt(tweet))\n",
    "df['tweet'] = df.tweet.map(lambda tweet : remove_extrass(tweet))\n",
    "df['tweet'] = df.tweet.map(lambda tweet : remove_tag_persons(tweet))\n",
    "df['tweet'] = df.tweet.map(lambda tweet : remove_dots(tweet))"
   ]
  },
  {
   "cell_type": "code",
   "execution_count": 45,
   "metadata": {
    "id": "uk_i3roCytGL"
   },
   "outputs": [],
   "source": [
    "#calculate the lexicon\n",
    "tweet_train_lex = []\n",
    "for tweet in df['tweet']:\n",
    "    tweet_train_lex.append(calc_lexicon(u\"%s\" %tweet))\n",
    "\n",
    "tweet_test_lex = []\n",
    "for tweet in df['tweet']:\n",
    "    tweet_test_lex.append(calc_lexicon(u\"%s\" %tweet))"
   ]
  },
  {
   "cell_type": "markdown",
   "metadata": {
    "id": "I6mW7GUymhLH"
   },
   "source": [
    "# Vectorizers"
   ]
  },
  {
   "cell_type": "code",
   "execution_count": 46,
   "metadata": {
    "id": "vt3_NOLVnn_N"
   },
   "outputs": [],
   "source": [
    "count_vec = CountVectorizer(ngram_range=(1,1))"
   ]
  },
  {
   "cell_type": "code",
   "execution_count": 47,
   "metadata": {
    "id": "2KbRcpe5CDog"
   },
   "outputs": [],
   "source": [
    "tfidf_vec = TfidfVectorizer()"
   ]
  },
  {
   "cell_type": "markdown",
   "metadata": {
    "id": "8EB9aBqUlk_I"
   },
   "source": [
    "# Splitting data"
   ]
  },
  {
   "cell_type": "code",
   "execution_count": 48,
   "metadata": {
    "id": "08yU2oHFloYJ"
   },
   "outputs": [],
   "source": [
    "X_train_tfidf,X_test_tfidf,Y_train_tfidf,Y_test_tfidf = train_test_split(tfidf_vec.fit_transform(df['tweet']), df['sentiment'], test_size=0.25, random_state=1)"
   ]
  },
  {
   "cell_type": "code",
   "execution_count": 49,
   "metadata": {
    "id": "wBDnCyIxCcrm"
   },
   "outputs": [],
   "source": [
    "X_train_count,X_test_count,Y_train_count,Y_test_count = train_test_split(count_vec.fit_transform(df['tweet']), df['sentiment'], test_size=0.25, random_state=1)"
   ]
  },
  {
   "cell_type": "markdown",
   "metadata": {
    "id": "NkPLDKRLYqJZ"
   },
   "source": [
    "# Naive Bayes (Lexicon)"
   ]
  },
  {
   "cell_type": "code",
   "execution_count": 50,
   "metadata": {
    "id": "CFdraTg7YvU8"
   },
   "outputs": [
    {
     "data": {
      "text/plain": [
       "<5819x2 sparse matrix of type '<class 'numpy.float64'>'\n",
       "\twith 4659 stored elements in Compressed Sparse Row format>"
      ]
     },
     "execution_count": 50,
     "metadata": {},
     "output_type": "execute_result"
    }
   ],
   "source": [
    "import scipy.sparse\n",
    "from scipy.sparse import csr_matrix\n",
    "from scipy.sparse import hstack\n",
    "tweet_lex_train_sparse = csr_matrix(tweet_train_lex)\n",
    "tweet_lex_test_sparse = csr_matrix(tweet_test_lex)\n",
    "tweet_lex_test_sparse"
   ]
  },
  {
   "cell_type": "code",
   "execution_count": 52,
   "metadata": {
    "id": "DQRPxYCmYxQg"
   },
   "outputs": [
    {
     "ename": "ValueError",
     "evalue": "blocks[0,:] has incompatible row dimensions. Got blocks[0,1].shape[0] == 5819, expected 4364.",
     "output_type": "error",
     "traceback": [
      "\u001b[1;31m---------------------------------------------------------------------------\u001b[0m",
      "\u001b[1;31mValueError\u001b[0m                                Traceback (most recent call last)",
      "\u001b[1;32m~\\AppData\\Local\\Temp/ipykernel_4564/1114435771.py\u001b[0m in \u001b[0;36m<module>\u001b[1;34m\u001b[0m\n\u001b[1;32m----> 1\u001b[1;33m \u001b[0mtrain_feature_matrix\u001b[0m \u001b[1;33m=\u001b[0m \u001b[0mhstack\u001b[0m\u001b[1;33m(\u001b[0m\u001b[1;33m(\u001b[0m\u001b[0mX_train_count\u001b[0m\u001b[1;33m,\u001b[0m \u001b[0mtweet_lex_train_sparse\u001b[0m\u001b[1;33m)\u001b[0m\u001b[1;33m)\u001b[0m\u001b[1;33m\u001b[0m\u001b[1;33m\u001b[0m\u001b[0m\n\u001b[0m\u001b[0;32m      2\u001b[0m \u001b[0mtest_feature_matrix\u001b[0m \u001b[1;33m=\u001b[0m \u001b[0mhstack\u001b[0m\u001b[1;33m(\u001b[0m\u001b[1;33m(\u001b[0m\u001b[0mX_test_count\u001b[0m\u001b[1;33m,\u001b[0m \u001b[0mtweet_lex_test_sparse\u001b[0m\u001b[1;33m)\u001b[0m\u001b[1;33m)\u001b[0m\u001b[1;33m\u001b[0m\u001b[1;33m\u001b[0m\u001b[0m\n\u001b[0;32m      3\u001b[0m \u001b[0mtest_feature_matrix\u001b[0m\u001b[1;33m\u001b[0m\u001b[1;33m\u001b[0m\u001b[0m\n",
      "\u001b[1;32m~\\anaconda3\\lib\\site-packages\\scipy\\sparse\\construct.py\u001b[0m in \u001b[0;36mhstack\u001b[1;34m(blocks, format, dtype)\u001b[0m\n\u001b[0;32m    465\u001b[0m \u001b[1;33m\u001b[0m\u001b[0m\n\u001b[0;32m    466\u001b[0m     \"\"\"\n\u001b[1;32m--> 467\u001b[1;33m     \u001b[1;32mreturn\u001b[0m \u001b[0mbmat\u001b[0m\u001b[1;33m(\u001b[0m\u001b[1;33m[\u001b[0m\u001b[0mblocks\u001b[0m\u001b[1;33m]\u001b[0m\u001b[1;33m,\u001b[0m \u001b[0mformat\u001b[0m\u001b[1;33m=\u001b[0m\u001b[0mformat\u001b[0m\u001b[1;33m,\u001b[0m \u001b[0mdtype\u001b[0m\u001b[1;33m=\u001b[0m\u001b[0mdtype\u001b[0m\u001b[1;33m)\u001b[0m\u001b[1;33m\u001b[0m\u001b[1;33m\u001b[0m\u001b[0m\n\u001b[0m\u001b[0;32m    468\u001b[0m \u001b[1;33m\u001b[0m\u001b[0m\n\u001b[0;32m    469\u001b[0m \u001b[1;33m\u001b[0m\u001b[0m\n",
      "\u001b[1;32m~\\anaconda3\\lib\\site-packages\\scipy\\sparse\\construct.py\u001b[0m in \u001b[0;36mbmat\u001b[1;34m(blocks, format, dtype)\u001b[0m\n\u001b[0;32m    586\u001b[0m                                                     \u001b[0mexp\u001b[0m\u001b[1;33m=\u001b[0m\u001b[0mbrow_lengths\u001b[0m\u001b[1;33m[\u001b[0m\u001b[0mi\u001b[0m\u001b[1;33m]\u001b[0m\u001b[1;33m,\u001b[0m\u001b[1;33m\u001b[0m\u001b[1;33m\u001b[0m\u001b[0m\n\u001b[0;32m    587\u001b[0m                                                     got=A.shape[0]))\n\u001b[1;32m--> 588\u001b[1;33m                     \u001b[1;32mraise\u001b[0m \u001b[0mValueError\u001b[0m\u001b[1;33m(\u001b[0m\u001b[0mmsg\u001b[0m\u001b[1;33m)\u001b[0m\u001b[1;33m\u001b[0m\u001b[1;33m\u001b[0m\u001b[0m\n\u001b[0m\u001b[0;32m    589\u001b[0m \u001b[1;33m\u001b[0m\u001b[0m\n\u001b[0;32m    590\u001b[0m                 \u001b[1;32mif\u001b[0m \u001b[0mbcol_lengths\u001b[0m\u001b[1;33m[\u001b[0m\u001b[0mj\u001b[0m\u001b[1;33m]\u001b[0m \u001b[1;33m==\u001b[0m \u001b[1;36m0\u001b[0m\u001b[1;33m:\u001b[0m\u001b[1;33m\u001b[0m\u001b[1;33m\u001b[0m\u001b[0m\n",
      "\u001b[1;31mValueError\u001b[0m: blocks[0,:] has incompatible row dimensions. Got blocks[0,1].shape[0] == 5819, expected 4364."
     ]
    }
   ],
   "source": [
    "train_feature_matrix = hstack((X_train_count, tweet_lex_train_sparse))\n",
    "test_feature_matrix = hstack((X_test_count, tweet_lex_test_sparse))\n",
    "test_feature_matrix"
   ]
  },
  {
   "cell_type": "code",
   "execution_count": null,
   "metadata": {
    "id": "OvrKyk5PZqm8"
   },
   "outputs": [],
   "source": [
    "cl.fit(train_feature_matrix,Y_train)\n",
    "predicted = cl.predict(test_feature_matrix)\n",
    "acc = accuracy_score(Y_test,predicted)\n",
    "print ('accuracy = '+str(acc*100)+'%')\n",
    "print (classification_report(Y_test,predicted))"
   ]
  },
  {
   "cell_type": "markdown",
   "metadata": {
    "id": "lNju2dCSnfow"
   },
   "source": [
    "# Classifying using Naive Bayes"
   ]
  },
  {
   "cell_type": "code",
   "execution_count": null,
   "metadata": {
    "id": "LIA8lGzbnY9F"
   },
   "outputs": [],
   "source": [
    "cl = MultinomialNB()"
   ]
  },
  {
   "cell_type": "code",
   "execution_count": null,
   "metadata": {
    "id": "tovTo0rFoKFr"
   },
   "outputs": [],
   "source": [
    "cl.fit(X_train, Y_train)\n",
    "p = cl.predict(X_test)\n",
    "acc = accuracy_score(Y_test,p)\n",
    "print ('accuracy = '+str(acc*100)+'%')\n",
    "print (classification_report(Y_test,p))"
   ]
  },
  {
   "cell_type": "markdown",
   "metadata": {
    "id": "kOswlrtZJK_G"
   },
   "source": [
    "# Logistic Regression"
   ]
  },
  {
   "cell_type": "code",
   "execution_count": null,
   "metadata": {
    "id": "4ZDYb8IzJT7S"
   },
   "outputs": [],
   "source": [
    "lg =  LogisticRegression()"
   ]
  },
  {
   "cell_type": "code",
   "execution_count": null,
   "metadata": {
    "id": "EoBqNWdbJWB6"
   },
   "outputs": [],
   "source": [
    "# make param grid\n",
    "param_grid = {'C': [0.01, 0.1, 1, 10, 100]}\n",
    "\n",
    "# create and fit the model\n",
    "model = GridSearchCV(lg, param_grid, cv=10)"
   ]
  },
  {
   "cell_type": "code",
   "execution_count": null,
   "metadata": {
    "id": "Xq49spN8JslI"
   },
   "outputs": [],
   "source": [
    "model.fit(X_train,Y_train)"
   ]
  },
  {
   "cell_type": "code",
   "execution_count": null,
   "metadata": {
    "id": "QWb51vfLN3ND"
   },
   "outputs": [],
   "source": [
    "# make prediction and print accuracy\n",
    "prediction = model.predict(X_test)\n",
    "print(f\"Accuracy score is {accuracy_score(Y_test, prediction):.2f}\")"
   ]
  },
  {
   "cell_type": "code",
   "execution_count": null,
   "metadata": {
    "id": "oTZWrjiQN8zg"
   },
   "outputs": [],
   "source": [
    "print(classification_report(Y_test, prediction))"
   ]
  },
  {
   "cell_type": "code",
   "execution_count": null,
   "metadata": {},
   "outputs": [],
   "source": []
  }
 ],
 "metadata": {
  "colab": {
   "collapsed_sections": [],
   "name": "Tweets SA task.ipynb",
   "provenance": []
  },
  "kernelspec": {
   "display_name": "Python 3 (ipykernel)",
   "language": "python",
   "name": "python3"
  },
  "language_info": {
   "codemirror_mode": {
    "name": "ipython",
    "version": 3
   },
   "file_extension": ".py",
   "mimetype": "text/x-python",
   "name": "python",
   "nbconvert_exporter": "python",
   "pygments_lexer": "ipython3",
   "version": "3.9.7"
  }
 },
 "nbformat": 4,
 "nbformat_minor": 1
}
